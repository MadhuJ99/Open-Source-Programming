{
 "cells": [
  {
   "cell_type": "code",
   "execution_count": 2,
   "metadata": {},
   "outputs": [],
   "source": [
    "\n",
    "# Python code to convert radian to degree\n",
    "# Name : Madhu\n",
    "\n",
    "\n",
    "def r2d(x):                        # function to convert radian to degree\n",
    "    pi = 3.14159\n",
    "    degree = x * (180/pi)     # formula to convert radian to degree\n",
    "    return degree"
   ]
  },
  {
   "cell_type": "code",
   "execution_count": null,
   "metadata": {},
   "outputs": [],
   "source": [
    "# Python code to convert degrees to radian\n",
    "\n",
    "def d2r(x):                        # function to convert degrees to radian\n",
    "    pi = 3.14159\n",
    "    radian = x * (pi/180)     # formula to convert degrees to radian\n",
    "    return radian"
   ]
  },
  {
   "cell_type": "code",
   "execution_count": 3,
   "metadata": {},
   "outputs": [],
   "source": [
    "# Python code to calculat retail price\n",
    "# Name: Madhu\n",
    "\n",
    "\n",
    "def wholesale_price(wholesale):\n",
    "     if wholesale < 0:                                             # Validate wholesale value\n",
    "        print('ERROR: the cost cannot be negative.')\n",
    "        wholesale = float(input('Enter the correct wholesale cost:'))\n",
    "        return wholesale\n",
    "     return wholesale\n",
    "     \n",
    "        \n",
    "def show_retail_price(wholesale, mark_up_value):\n",
    "    retail = wholesale * mark_up_value                              # Formula to calculate retail price\n",
    "    return retail"
   ]
  },
  {
   "cell_type": "code",
   "execution_count": null,
   "metadata": {},
   "outputs": [],
   "source": []
  }
 ],
 "metadata": {
  "kernelspec": {
   "display_name": "Python 3",
   "language": "python",
   "name": "python3"
  },
  "language_info": {
   "codemirror_mode": {
    "name": "ipython",
    "version": 3
   },
   "file_extension": ".py",
   "mimetype": "text/x-python",
   "name": "python",
   "nbconvert_exporter": "python",
   "pygments_lexer": "ipython3",
   "version": "3.8.5"
  }
 },
 "nbformat": 4,
 "nbformat_minor": 4
}
