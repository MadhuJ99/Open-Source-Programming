{
 "cells": [
  {
   "cell_type": "markdown",
   "metadata": {},
   "source": [
    "Create a program called password_checker.py which is responsible for checking that the\n",
    "password meets some pre-defined criteria. The following function is required to be implement\n",
    "within this program:\n",
    "• does_password_pass_check\n",
    "o Input parameter:\n",
    "▪ password -> string\n",
    "o Output parameter:\n",
    "▪ Boolean value: True, if the password contains at least one digit (0 to 9)\n",
    "▪ Boolean value: False, if the password does not contain at least one digit (0\n",
    "to 9) or an invalid value is entered as input\n",
    "Note: This function must be a recursive function\n",
    "• main\n",
    "o When this program is run the main function should be executed\n",
    "o Call does_password_pass_check function with various valid and invalid\n",
    "cases/inputs and print the output\n",
    "\n",
    "Name: Madhu"
   ]
  },
  {
   "cell_type": "code",
   "execution_count": 9,
   "metadata": {},
   "outputs": [
    {
     "name": "stdout",
     "output_type": "stream",
     "text": [
      "madhujagdale9 is True \n",
      "\n",
      "5akshayt#8@ is True \n",
      "\n",
      "stayhappyalways is False\n"
     ]
    }
   ],
   "source": [
    "def does_password_pass_check(password):\n",
    "    length = len(password)                                         # returns size of the password\n",
    "  \n",
    "    if length == 0:                                                # if password is empty\n",
    "        return False\n",
    "  \n",
    "    elif(password[0].isdigit()):                                   # checking if first value of the password is an integer\n",
    "        return True\n",
    "  \n",
    "    else:\n",
    "        password = password[1:]\n",
    "        return does_password_pass_check(password)                  # recursive function for remaining string values\n",
    "\n",
    "\n",
    "password_1 = \"madhujagdale9\"\n",
    "print(password_1, \"is\", does_password_pass_check(password_1),\"\\n\")      # testing password_1\n",
    "\n",
    "password_2 = \"5akshayt#8@\"\n",
    "print(password_2, \"is\",does_password_pass_check(password_2),\"\\n\")       # testing password_2\n",
    "\n",
    "password_3 = \"stayhappyalways\"\n",
    "print(password_3, \"is\",does_password_pass_check(password_3))       # testing password_3"
   ]
  },
  {
   "cell_type": "code",
   "execution_count": null,
   "metadata": {},
   "outputs": [],
   "source": []
  }
 ],
 "metadata": {
  "kernelspec": {
   "display_name": "Python 3",
   "language": "python",
   "name": "python3"
  },
  "language_info": {
   "codemirror_mode": {
    "name": "ipython",
    "version": 3
   },
   "file_extension": ".py",
   "mimetype": "text/x-python",
   "name": "python",
   "nbconvert_exporter": "python",
   "pygments_lexer": "ipython3",
   "version": "3.8.5"
  }
 },
 "nbformat": 4,
 "nbformat_minor": 4
}
