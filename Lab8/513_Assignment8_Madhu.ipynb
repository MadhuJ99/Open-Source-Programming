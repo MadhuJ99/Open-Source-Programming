{
 "cells": [
  {
   "cell_type": "markdown",
   "metadata": {},
   "source": [
    "Question 1A: Perform the following tasks with pandas Series:\n",
    "a. Create a Series from the list [7, 11, 13, 17].\n",
    "b. Create a Series with five elements that are all 100.0.\n",
    "c. Create a Series with 20 elements that are all random numbers in the\n",
    "range 0 to 100. Use method describe to produce the Series’ basic descriptive\n",
    "statistics.\n",
    "d. Create a Series called temperatures of the floating-point\n",
    "values 98.6, 98.9, 100.2 and 97.9. Using the index keyword argument, specify\n",
    "the custom indices 'Julie', 'Charlie', 'Sam' and 'Andrea'.\n",
    "e. Form a dictionary from the names and values in Part (d), then use it to initialize\n",
    "a Series.\n",
    "\n",
    "Name: Madhu"
   ]
  },
  {
   "cell_type": "code",
   "execution_count": 4,
   "metadata": {},
   "outputs": [
    {
     "name": "stdout",
     "output_type": "stream",
     "text": [
      "0     7\n",
      "1    11\n",
      "2    13\n",
      "3    17\n",
      "dtype: int64\n"
     ]
    }
   ],
   "source": [
    "# a. Create a Series from the list [7, 11, 13, 17].\n",
    "\n",
    "import pandas as pd\n",
    "DataSeries = pd.Series([7,11,13,17])\n",
    "print(DataSeries)\n"
   ]
  },
  {
   "cell_type": "code",
   "execution_count": 5,
   "metadata": {},
   "outputs": [
    {
     "name": "stdout",
     "output_type": "stream",
     "text": [
      "0    100.0\n",
      "0    100.0\n",
      "0    100.0\n",
      "0    100.0\n",
      "0    100.0\n",
      "dtype: float64\n"
     ]
    }
   ],
   "source": [
    "# b. Create a Series with five elements that are all 100.0.\n",
    "\n",
    "DS = pd.Series(100.0)\n",
    "DS = DS.repeat(5)\n",
    "print(DS)\n"
   ]
  },
  {
   "cell_type": "code",
   "execution_count": 10,
   "metadata": {},
   "outputs": [
    {
     "name": "stdout",
     "output_type": "stream",
     "text": [
      "0      1\n",
      "1     64\n",
      "2     18\n",
      "3     37\n",
      "4     67\n",
      "5     65\n",
      "6     18\n",
      "7      0\n",
      "8     32\n",
      "9     63\n",
      "10    31\n",
      "11    82\n",
      "12    43\n",
      "13    80\n",
      "14    20\n",
      "15    42\n",
      "16    95\n",
      "17    11\n",
      "18    52\n",
      "19    95\n",
      "dtype: int32\n"
     ]
    },
    {
     "data": {
      "text/plain": [
       "count    20.000000\n",
       "mean     45.800000\n",
       "std      29.772117\n",
       "min       0.000000\n",
       "25%      19.500000\n",
       "50%      42.500000\n",
       "75%      65.500000\n",
       "max      95.000000\n",
       "dtype: float64"
      ]
     },
     "execution_count": 10,
     "metadata": {},
     "output_type": "execute_result"
    }
   ],
   "source": [
    "# c. Create a Series with 20 elements that are all random numbers in the # range 0 to 100. Use method describe to produce \n",
    "# the Series’ basic descriptive statistics.\n",
    "\n",
    "import numpy as np\n",
    "from random import random\n",
    "\n",
    "RN = pd.Series(np.random.randint(0,100,20))\n",
    "print(RN)\n",
    "RN.describe()"
   ]
  },
  {
   "cell_type": "code",
   "execution_count": 11,
   "metadata": {},
   "outputs": [
    {
     "name": "stdout",
     "output_type": "stream",
     "text": [
      "Julie       98.6\n",
      "Charlie     98.9\n",
      "Sam        100.2\n",
      "Andrea      97.9\n",
      "dtype: float64\n"
     ]
    }
   ],
   "source": [
    "# d. Create a Series called temperatures of the floating-point values 98.6, 98.9, 100.2 and 97.9. Using the index keyword \n",
    "# argument, specify the custom indices 'Julie', 'Charlie', 'Sam' and 'Andrea'.\n",
    "\n",
    "FloatSeries = pd.Series([98.6,98.9,100.2,97.9],index = ['Julie','Charlie','Sam','Andrea'])\n",
    "print(FloatSeries)\n"
   ]
  },
  {
   "cell_type": "code",
   "execution_count": 132,
   "metadata": {},
   "outputs": [
    {
     "data": {
      "text/plain": [
       "Julie       98.6\n",
       "Charlie     98.9\n",
       "Sam        100.2\n",
       "Andrea      97.9\n",
       "dtype: float64"
      ]
     },
     "execution_count": 132,
     "metadata": {},
     "output_type": "execute_result"
    }
   ],
   "source": [
    "# e. Form a dictionary from the names and values in Part (d), then use it to initialize a Series.\n",
    "\n",
    "dictionary = {'Julie':98.6,'Charlie':98.9,'Sam':100.2,'Andrea':97.9}\n",
    "IS = pd.Series(dictionary)\n",
    "IS\n"
   ]
  },
  {
   "cell_type": "markdown",
   "metadata": {},
   "source": [
    "Question 1B: Perform the following tasks with pandas DataFrames:\n",
    "f. Create a DataFrame named temperatures from a dictionary of three temperature\n",
    "readings each for 'Maxine', 'James' and 'Amanda'.\n",
    "g. Recreate the DataFrame temperatures in Part (a) with custom indices using\n",
    "the index keyword argument and a list\n",
    "containing 'Morning', 'Afternoon' and 'Evening'.\n",
    "h. Select from temperatures the column of temperature readings for 'Maxine'.\n",
    "i. Select from temperatures the row of 'Morning' temperature readings.\n",
    "j. Select from temperatures the rows for 'Morning' and 'Evening' temperature\n",
    "readings.\n",
    "k. Select from temperatures the columns of temperature readings\n",
    "for 'Amanda' and 'Maxine'.\n",
    "l. Select from temperatures the elements for 'Amanda' and 'Maxine' in\n",
    "the 'Morning' and 'Afternoon'.\n",
    "m. Use the describe method to produce temperatures’ descriptive statistics.\n",
    "n. Transpose temperatures.\n",
    "o. Sort temperatures so that its column names are in alphabetical order.\n",
    "\n",
    "Name: Madhu"
   ]
  },
  {
   "cell_type": "code",
   "execution_count": 21,
   "metadata": {},
   "outputs": [
    {
     "name": "stdout",
     "output_type": "stream",
     "text": [
      "Dataframe with tempratures : \n",
      "     Maxine  James  Amanda\n",
      "0      38     12      58\n",
      "1      53     34      33\n",
      "2      76     80      64\n"
     ]
    }
   ],
   "source": [
    "# f. Create a DataFrame named temperatures from a dictionary of three temperature readings each for 'Maxine', 'James' \n",
    "# and 'Amanda'.\n",
    "\n",
    "DF={\n",
    "   'Maxine':[38,53,76],\n",
    "   'James':[12,34,80],\n",
    "   'Amanda':[58,33,64]\n",
    "   }\n",
    "#Creating dataFrame\n",
    "temparatures=pd.DataFrame(DF)\n",
    "print(\"Dataframe with tempratures : \\n \", temparatures)\n",
    "\n"
   ]
  },
  {
   "cell_type": "code",
   "execution_count": 22,
   "metadata": {},
   "outputs": [
    {
     "name": "stdout",
     "output_type": "stream",
     "text": [
      "Dataframe with custom indices: \n",
      "            Maxine  James  Amanda\n",
      "Morning        38     12      58\n",
      "Afternoon      53     34      33\n",
      "Evening        76     80      64\n"
     ]
    }
   ],
   "source": [
    "# g. Recreate the DataFrame temperatures in Part (a) with custom indices using the index keyword argument and a list\n",
    "# containing 'Morning', 'Afternoon' and 'Evening'.\n",
    "\n",
    "temparatures=pd.DataFrame(DF,index=[\"Morning\",\"Afternoon\",\"Evening\"])\n",
    "print(\"Dataframe with custom indices: \\n\" , temparatures)\n"
   ]
  },
  {
   "cell_type": "code",
   "execution_count": 24,
   "metadata": {},
   "outputs": [
    {
     "name": "stdout",
     "output_type": "stream",
     "text": [
      "temperature readings for Maxine is : \n",
      "            Maxine\n",
      "Morning        38\n",
      "Afternoon      53\n",
      "Evening        76\n"
     ]
    }
   ],
   "source": [
    "# h. Select from temperatures the column of temperature readings for 'Maxine'.\n",
    "\n",
    "MaxineT = temparatures[['Maxine']]\n",
    "print(\"temperature readings for Maxine is : \\n\", MaxineT)\n"
   ]
  },
  {
   "cell_type": "code",
   "execution_count": 27,
   "metadata": {},
   "outputs": [
    {
     "name": "stdout",
     "output_type": "stream",
     "text": [
      "temperatures the row of Morning : \n",
      "          Maxine  James  Amanda\n",
      "Morning      38     12      58\n"
     ]
    }
   ],
   "source": [
    "# i. Select from temperatures the row of 'Morning' temperature readings.\n",
    "\n",
    "MorningT = temparatures.loc[[\"Morning\"],:]\n",
    "print(\"temperatures the row of Morning : \\n\", MorningT)"
   ]
  },
  {
   "cell_type": "code",
   "execution_count": 28,
   "metadata": {},
   "outputs": [
    {
     "name": "stdout",
     "output_type": "stream",
     "text": [
      "Morning and Evening temperature readings: \n",
      "          Maxine  James  Amanda\n",
      "Morning      38     12      58\n",
      "Evening      76     80      64\n"
     ]
    }
   ],
   "source": [
    "# j. Select from temperatures the rows for 'Morning' and 'Evening' temperature readings.\n",
    "\n",
    "MET =temparatures.loc[[\"Morning\",\"Evening\"],:]\n",
    "print(\"Morning and Evening temperature readings: \\n\", MET)\n"
   ]
  },
  {
   "cell_type": "code",
   "execution_count": 31,
   "metadata": {},
   "outputs": [
    {
     "name": "stdout",
     "output_type": "stream",
     "text": [
      "Amanda and Maxine temperature readings: \n",
      "            Amanda  Maxine\n",
      "Morning        58      38\n",
      "Afternoon      33      53\n",
      "Evening        64      76\n"
     ]
    }
   ],
   "source": [
    "# k. Select from temperatures the columns of temperature readings for 'Amanda' and 'Maxine'.\n",
    "\n",
    "MET1 =temparatures.loc[:, [\"Amanda\",\"Maxine\"]]\n",
    "print(\"Amanda and Maxine temperature readings: \\n\", MET1)"
   ]
  },
  {
   "cell_type": "code",
   "execution_count": 32,
   "metadata": {},
   "outputs": [
    {
     "name": "stdout",
     "output_type": "stream",
     "text": [
      "the elements for Amanda and Maxine in the Morning and Afternoon: \n",
      "            Amanda  Maxine\n",
      "Morning        58      38\n",
      "Afternoon      33      53\n"
     ]
    }
   ],
   "source": [
    "# l. Select from temperatures the elements for 'Amanda' and 'Maxine' in the 'Morning' and 'Afternoon'.\n",
    "\n",
    "MET2 = temparatures[[\"Amanda\",\"Maxine\"]].loc[[\"Morning\",\"Afternoon\"]]\n",
    "print(\"the elements for Amanda and Maxine in the Morning and Afternoon: \\n\", MET2)\n"
   ]
  },
  {
   "cell_type": "code",
   "execution_count": 34,
   "metadata": {},
   "outputs": [
    {
     "data": {
      "text/html": [
       "<div>\n",
       "<style scoped>\n",
       "    .dataframe tbody tr th:only-of-type {\n",
       "        vertical-align: middle;\n",
       "    }\n",
       "\n",
       "    .dataframe tbody tr th {\n",
       "        vertical-align: top;\n",
       "    }\n",
       "\n",
       "    .dataframe thead th {\n",
       "        text-align: right;\n",
       "    }\n",
       "</style>\n",
       "<table border=\"1\" class=\"dataframe\">\n",
       "  <thead>\n",
       "    <tr style=\"text-align: right;\">\n",
       "      <th></th>\n",
       "      <th>Maxine</th>\n",
       "      <th>James</th>\n",
       "      <th>Amanda</th>\n",
       "    </tr>\n",
       "  </thead>\n",
       "  <tbody>\n",
       "    <tr>\n",
       "      <th>count</th>\n",
       "      <td>3.000000</td>\n",
       "      <td>3.000000</td>\n",
       "      <td>3.000000</td>\n",
       "    </tr>\n",
       "    <tr>\n",
       "      <th>mean</th>\n",
       "      <td>55.666667</td>\n",
       "      <td>42.000000</td>\n",
       "      <td>51.666667</td>\n",
       "    </tr>\n",
       "    <tr>\n",
       "      <th>std</th>\n",
       "      <td>19.139836</td>\n",
       "      <td>34.698703</td>\n",
       "      <td>16.441817</td>\n",
       "    </tr>\n",
       "    <tr>\n",
       "      <th>min</th>\n",
       "      <td>38.000000</td>\n",
       "      <td>12.000000</td>\n",
       "      <td>33.000000</td>\n",
       "    </tr>\n",
       "    <tr>\n",
       "      <th>25%</th>\n",
       "      <td>45.500000</td>\n",
       "      <td>23.000000</td>\n",
       "      <td>45.500000</td>\n",
       "    </tr>\n",
       "    <tr>\n",
       "      <th>50%</th>\n",
       "      <td>53.000000</td>\n",
       "      <td>34.000000</td>\n",
       "      <td>58.000000</td>\n",
       "    </tr>\n",
       "    <tr>\n",
       "      <th>75%</th>\n",
       "      <td>64.500000</td>\n",
       "      <td>57.000000</td>\n",
       "      <td>61.000000</td>\n",
       "    </tr>\n",
       "    <tr>\n",
       "      <th>max</th>\n",
       "      <td>76.000000</td>\n",
       "      <td>80.000000</td>\n",
       "      <td>64.000000</td>\n",
       "    </tr>\n",
       "  </tbody>\n",
       "</table>\n",
       "</div>"
      ],
      "text/plain": [
       "          Maxine      James     Amanda\n",
       "count   3.000000   3.000000   3.000000\n",
       "mean   55.666667  42.000000  51.666667\n",
       "std    19.139836  34.698703  16.441817\n",
       "min    38.000000  12.000000  33.000000\n",
       "25%    45.500000  23.000000  45.500000\n",
       "50%    53.000000  34.000000  58.000000\n",
       "75%    64.500000  57.000000  61.000000\n",
       "max    76.000000  80.000000  64.000000"
      ]
     },
     "execution_count": 34,
     "metadata": {},
     "output_type": "execute_result"
    }
   ],
   "source": [
    "# m. Use the describe method to produce temperatures’ descriptive statistics.\n",
    "\n",
    "temparatures.describe()"
   ]
  },
  {
   "cell_type": "code",
   "execution_count": 35,
   "metadata": {},
   "outputs": [
    {
     "name": "stdout",
     "output_type": "stream",
     "text": [
      "Transposed temperature: \n",
      "         Morning  Afternoon  Evening\n",
      "Maxine       38         53       76\n",
      "James        12         34       80\n",
      "Amanda       58         33       64\n"
     ]
    }
   ],
   "source": [
    "# n. Transpose temperatures.\n",
    "\n",
    "TranTemp = temparatures.transpose()\n",
    "print(\"Transposed temperature: \\n\", TranTe mp)\n"
   ]
  },
  {
   "cell_type": "code",
   "execution_count": 36,
   "metadata": {},
   "outputs": [
    {
     "name": "stdout",
     "output_type": "stream",
     "text": [
      "Sorted tempratures: \n",
      "             Amanda  James  Maxine\n",
      "Morning        58     12      38\n",
      "Afternoon      33     34      53\n",
      "Evening        64     80      76\n"
     ]
    }
   ],
   "source": [
    "# o. Sort temperatures so that its column names are in alphabetical order.\n",
    "\n",
    "SortedTemp =temparatures.reindex(sorted(temparatures.columns),axis=1)\n",
    "print(\"Sorted tempratures: \\n \", SortedTemp)"
   ]
  },
  {
   "cell_type": "markdown",
   "metadata": {},
   "source": [
    "Question 2: Using the titanic.csv dataset, write a program to explore and mine the following information:\n",
    "a) How many passengers were on the titanic?\n",
    "b) How many male and female passengers were in the titanic?\n",
    "c) What was the average age of all passengers?\n",
    "d) How many passengers were under 21 years of age?\n",
    "e) How many survived and how many did not? How many males and how many females?\n",
    "f) What was the youngest age that survived, and the oldest age? What were their names?\n",
    "g) Display the name of all passengers that survived.\n",
    "\n",
    "Name: Madhu"
   ]
  },
  {
   "cell_type": "code",
   "execution_count": 1,
   "metadata": {},
   "outputs": [
    {
     "data": {
      "text/html": [
       "<table border=\"1\" class=\"dataframe\">\n",
       "  <thead>\n",
       "    <tr style=\"text-align: right;\">\n",
       "      <th></th>\n",
       "      <th>Name</th>\n",
       "      <th>survived</th>\n",
       "      <th>sex</th>\n",
       "      <th>age</th>\n",
       "      <th>passengerClass</th>\n",
       "    </tr>\n",
       "  </thead>\n",
       "  <tbody>\n",
       "    <tr>\n",
       "      <th>0</th>\n",
       "      <td>Allen, Miss. Elisabeth Walton</td>\n",
       "      <td>yes</td>\n",
       "      <td>female</td>\n",
       "      <td>29.0000</td>\n",
       "      <td>1st</td>\n",
       "    </tr>\n",
       "    <tr>\n",
       "      <th>1</th>\n",
       "      <td>Allison, Master. Hudson Trevor</td>\n",
       "      <td>yes</td>\n",
       "      <td>male</td>\n",
       "      <td>0.9167</td>\n",
       "      <td>1st</td>\n",
       "    </tr>\n",
       "    <tr>\n",
       "      <th>2</th>\n",
       "      <td>Allison, Miss. Helen Loraine</td>\n",
       "      <td>no</td>\n",
       "      <td>female</td>\n",
       "      <td>2.0000</td>\n",
       "      <td>1st</td>\n",
       "    </tr>\n",
       "    <tr>\n",
       "      <th>3</th>\n",
       "      <td>Allison, Mr. Hudson Joshua Crei</td>\n",
       "      <td>no</td>\n",
       "      <td>male</td>\n",
       "      <td>30.0000</td>\n",
       "      <td>1st</td>\n",
       "    </tr>\n",
       "    <tr>\n",
       "      <th>4</th>\n",
       "      <td>Allison, Mrs. Hudson J C (Bessi</td>\n",
       "      <td>no</td>\n",
       "      <td>female</td>\n",
       "      <td>25.0000</td>\n",
       "      <td>1st</td>\n",
       "    </tr>\n",
       "    <tr>\n",
       "      <th>5</th>\n",
       "      <td>Anderson, Mr. Harry</td>\n",
       "      <td>yes</td>\n",
       "      <td>male</td>\n",
       "      <td>48.0000</td>\n",
       "      <td>1st</td>\n",
       "    </tr>\n",
       "    <tr>\n",
       "      <th>6</th>\n",
       "      <td>Andrews, Miss. Kornelia Theodos</td>\n",
       "      <td>yes</td>\n",
       "      <td>female</td>\n",
       "      <td>63.0000</td>\n",
       "      <td>1st</td>\n",
       "    </tr>\n",
       "    <tr>\n",
       "      <th>7</th>\n",
       "      <td>Andrews, Mr. Thomas Jr</td>\n",
       "      <td>no</td>\n",
       "      <td>male</td>\n",
       "      <td>39.0000</td>\n",
       "      <td>1st</td>\n",
       "    </tr>\n",
       "    <tr>\n",
       "      <th>8</th>\n",
       "      <td>Appleton, Mrs. Edward Dale (Cha</td>\n",
       "      <td>yes</td>\n",
       "      <td>female</td>\n",
       "      <td>53.0000</td>\n",
       "      <td>1st</td>\n",
       "    </tr>\n",
       "    <tr>\n",
       "      <th>9</th>\n",
       "      <td>Artagaveytia, Mr. Ramon</td>\n",
       "      <td>no</td>\n",
       "      <td>male</td>\n",
       "      <td>71.0000</td>\n",
       "      <td>1st</td>\n",
       "    </tr>\n",
       "  </tbody>\n",
       "</table>"
      ],
      "text/plain": [
       "<IPython.core.display.HTML object>"
      ]
     },
     "metadata": {},
     "output_type": "display_data"
    }
   ],
   "source": [
    "import numpy as np\n",
    "import pandas as pd\n",
    "from IPython.display import display, HTML\n",
    "\n",
    "\n",
    "#a) Display all data on screen.\n",
    "\n",
    "TitanicData = pd.read_csv('titanic.csv')\n",
    "cols=TitanicData.columns\n",
    "# print out and display dataframe as tables in HTML\n",
    "display(HTML(TitanicData.head(10).to_html()))"
   ]
  },
  {
   "cell_type": "code",
   "execution_count": 48,
   "metadata": {},
   "outputs": [
    {
     "name": "stdout",
     "output_type": "stream",
     "text": [
      "Total number of passengers are : 1309\n"
     ]
    }
   ],
   "source": [
    "# a) How many passengers were on the titanic?\n",
    "\n",
    "TPass = TitanicData.index\n",
    "Total_passengers = len(TPass)\n",
    "print(\"Total number of passengers are :\", Total_passengers)"
   ]
  },
  {
   "cell_type": "code",
   "execution_count": 122,
   "metadata": {},
   "outputs": [
    {
     "name": "stdout",
     "output_type": "stream",
     "text": [
      "Number of Female Passengers: \n",
      " 466\n",
      "Number of Male Passengers: \n",
      " 843\n"
     ]
    }
   ],
   "source": [
    "# b) How many male and female passengers were in the titanic?\n",
    "\n",
    "Female = TitanicData['sex'][TitanicData['sex']=='female']\n",
    "Male = TitanicData['sex'][TitanicData['sex']=='male']\n",
    "\n",
    "print(\"Number of Female Passengers: \\n\" , Female.count())\n",
    "print(\"Number of Male Passengers: \\n\", Male.count())\n"
   ]
  },
  {
   "cell_type": "code",
   "execution_count": 116,
   "metadata": {},
   "outputs": [
    {
     "name": "stdout",
     "output_type": "stream",
     "text": [
      "Average age of all passengers is: 29.881134512434034\n"
     ]
    }
   ],
   "source": [
    "# c) What was the average age of all passengers?\n",
    "\n",
    "average_ages = print(\"Average age of all passengers is:\", TitanicData['age'].mean())\n"
   ]
  },
  {
   "cell_type": "code",
   "execution_count": 119,
   "metadata": {},
   "outputs": [
    {
     "name": "stdout",
     "output_type": "stream",
     "text": [
      "Number of passengers were under 21 years of age are: 249\n"
     ]
    }
   ],
   "source": [
    "# d) How many passengers were under 21 years of age?\n",
    "\n",
    "\n",
    "p = TitanicData['age'][TitanicData['age'] < 21]\n",
    "print(\"Number of passengers were under 21 years of age are:\", p.count())\n"
   ]
  },
  {
   "cell_type": "code",
   "execution_count": 7,
   "metadata": {},
   "outputs": [
    {
     "name": "stdout",
     "output_type": "stream",
     "text": [
      "Table for survived count: \n",
      " sex       female  male   All\n",
      "survived                    \n",
      "no           127   682   809\n",
      "yes          339   161   500\n",
      "All          466   843  1309\n",
      "\n",
      "As per the above table: \n",
      "Total Paassengers Survived: 500, Male: 161, Female: 339\n",
      "Total Paassengers Deceased: 809, Male: 682, Female: 127\n"
     ]
    }
   ],
   "source": [
    "# e) How many survived and how many did not? How many males and how many females?\n",
    "\n",
    "count = pd.crosstab(TitanicData['survived'],TitanicData['sex'],margins=True)\n",
    "print(\"Table for survived count: \\n\", count)\n",
    "\n",
    "print(\"\\nAs per the above table: \\nTotal Paassengers Survived: 500, Male: 161, Female: 339\")\n",
    "print(\"Total Paassengers Deceased: 809, Male: 682, Female: 127\")"
   ]
  },
  {
   "cell_type": "code",
   "execution_count": 104,
   "metadata": {},
   "outputs": [
    {
     "name": "stdout",
     "output_type": "stream",
     "text": [
      "Yongest person that survived: \n",
      "                                Name survived     sex     age passengerClass\n",
      "763  Dean, Miss. Elizabeth Gladys M      yes  female  0.1667            3rd\n",
      " \n",
      "\n",
      " Oldest person that survived: \n",
      "                                Name survived   sex   age passengerClass\n",
      "14  Barkworth, Mr. Algernon Henry W      yes  male  80.0            1st\n"
     ]
    }
   ],
   "source": [
    "# f) What was the youngest age that survived, and the oldest age? What were their names?\n",
    "\n",
    "\n",
    "print(\"Yongest person that survived: \\n\", TitanicData.loc[TitanicData['age'] == TitanicData['age'].min()])\n",
    "\n",
    "print(\" \\n\\n Oldest person that survived: \\n\", TitanicData.loc[TitanicData['age'] == TitanicData['age'].max()])"
   ]
  },
  {
   "cell_type": "code",
   "execution_count": 60,
   "metadata": {},
   "outputs": [
    {
     "name": "stdout",
     "output_type": "stream",
     "text": [
      "The name of all passengers that survived: \n",
      "                                  Name survived     sex      age passengerClass\n",
      "0       Allen, Miss. Elisabeth Walton      yes  female  29.0000            1st\n",
      "1      Allison, Master. Hudson Trevor      yes    male   0.9167            1st\n",
      "5                 Anderson, Mr. Harry      yes    male  48.0000            1st\n",
      "6     Andrews, Miss. Kornelia Theodos      yes  female  63.0000            1st\n",
      "8     Appleton, Mrs. Edward Dale (Cha      yes  female  53.0000            1st\n",
      "...                               ...      ...     ...      ...            ...\n",
      "1261           Turkula, Mrs. (Hedwig)      yes  female  63.0000            3rd\n",
      "1277             Vartanian, Mr. David      yes    male  22.0000            3rd\n",
      "1286  Whabee, Mrs. George Joseph (Sha      yes  female  38.0000            3rd\n",
      "1290  Wilkes, Mrs. James (Ellen Needs      yes  female  47.0000            3rd\n",
      "1300  Yasbeck, Mrs. Antoni (Selini Al      yes  female  15.0000            3rd\n",
      "\n",
      "[500 rows x 5 columns]\n"
     ]
    }
   ],
   "source": [
    "# g) Display the name of all passengers that survived.\n",
    "\n",
    "\n",
    "passengers = print(\"The name of all passengers that survived: \\n\", TitanicData.loc[TitanicData['survived'] == 'yes'])"
   ]
  },
  {
   "cell_type": "code",
   "execution_count": null,
   "metadata": {},
   "outputs": [],
   "source": []
  }
 ],
 "metadata": {
  "kernelspec": {
   "display_name": "Python 3",
   "language": "python",
   "name": "python3"
  },
  "language_info": {
   "codemirror_mode": {
    "name": "ipython",
    "version": 3
   },
   "file_extension": ".py",
   "mimetype": "text/x-python",
   "name": "python",
   "nbconvert_exporter": "python",
   "pygments_lexer": "ipython3",
   "version": "3.8.5"
  }
 },
 "nbformat": 4,
 "nbformat_minor": 4
}
