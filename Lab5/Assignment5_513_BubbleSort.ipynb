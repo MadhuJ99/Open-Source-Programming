{
 "cells": [
  {
   "cell_type": "code",
   "execution_count": null,
   "metadata": {},
   "outputs": [],
   "source": [
    "Python program to generate random integer numbers of multiple sizes; 10000, 30000, 50000, 70000, and 90000, and to find out \n",
    "which of the sorting algorithms perform the fastest sorting technique. Also provide data to prove and support your findings by \n",
    "plotting a line graph showing the time each takes to sort data of various sizes. \n",
    "\n",
    "Name: Madhu"
   ]
  },
  {
   "cell_type": "code",
   "execution_count": 3,
   "metadata": {},
   "outputs": [],
   "source": [
    "import random\n",
    "import time\n",
    "from matplotlib import pyplot as plt\n",
    "\n",
    "def bubble_Sort(arr):\n",
    "    n = len(arr)                                                  # store length of an array\n",
    " \n",
    "    for i in range(n-1):\n",
    "    \n",
    "        for j in range(0, n-i-1): \n",
    "            \n",
    "            if arr[j] > arr[j + 1] :                              # if first number is larger than second then swaping is done\n",
    "                arr[j], arr[j + 1] = arr[j + 1], arr[j]"
   ]
  },
  {
   "cell_type": "code",
   "execution_count": 4,
   "metadata": {},
   "outputs": [
    {
     "name": "stdout",
     "output_type": "stream",
     "text": [
      "Total time taken by bubble sort is : 30.64907431602478\n",
      "Total time taken by bubble sort is : 281.035808801651\n",
      "Total time taken by bubble sort is : 969.4255809783936\n",
      "Total time taken by bubble sort is : 1879.9397330284119\n",
      "Total time taken by bubble sort is : 1382.453463792801\n"
     ]
    }
   ],
   "source": [
    "\n",
    "n1=0 \n",
    "l1=[10000,30000,50000,70000,90000]\n",
    "bubble=[]\n",
    "\n",
    "l=[]\n",
    "for n in l1:\n",
    "\n",
    "    for i in range(n-n1):\n",
    "        l.append(random.randint(0,1000))\n",
    "    n1=n\n",
    "    begin=time.time() \n",
    "    bubble_Sort(l)\n",
    "    end=time.time()\n",
    "    bubble.append(end-begin)\n",
    "    print(\"Total time taken by bubble sort is :\",end-begin)\n",
    "      \n",
    "\n"
   ]
  },
  {
   "cell_type": "code",
   "execution_count": 5,
   "metadata": {},
   "outputs": [
    {
     "data": {
      "image/png": "[encoded data removed]",
      "text/plain": [
       "<Figure size 432x288 with 1 Axes>"
      ]
     },
     "metadata": {
      "needs_background": "light"
     },
     "output_type": "display_data"
    }
   ],
   "source": [
    "plt.plot(l1,bubble)\n",
    "plt.xlabel(\"integer numbers\")\n",
    "plt.ylabel(\"Time\")\n",
    "plt.title(\"Time taken for bubble sorting of integer numbers\")\n",
    "\n",
    "plt.show()"
   ]
  },
  {
   "cell_type": "code",
   "execution_count": null,
   "metadata": {},
   "outputs": [],
   "source": [
    "\n",
    "\n",
    "\n",
    "\n",
    "\n",
    "\n",
    "\n",
    "\n",
    "\n",
    "\n"
   ]
  }
 ],
 "metadata": {
  "kernelspec": {
   "display_name": "Python 3",
   "language": "python",
   "name": "python3"
  },
  "language_info": {
   "codemirror_mode": {
    "name": "ipython",
    "version": 3
   },
   "file_extension": ".py",
   "mimetype": "text/x-python",
   "name": "python",
   "nbconvert_exporter": "python",
   "pygments_lexer": "ipython3",
   "version": "3.8.5"
  }
 },
 "nbformat": 4,
 "nbformat_minor": 4
}
