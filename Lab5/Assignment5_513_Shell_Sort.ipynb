{
 "cells": [
  {
   "cell_type": "code",
   "execution_count": null,
   "metadata": {},
   "outputs": [],
   "source": [
    "Python program to generate random integer numbers of multiple sizes; 10000, 30000, 50000, 70000, and 90000, and to find out \n",
    "which of the sorting algorithms perform the fastest sorting technique. Also provide data to prove and support your findings by \n",
    "plotting a line graph showing the time each takes to sort data of various sizes. \n",
    "\n",
    "Name: Madhu"
   ]
  },
  {
   "cell_type": "code",
   "execution_count": 2,
   "metadata": {},
   "outputs": [],
   "source": [
    "import random\n",
    "import time\n",
    "from matplotlib import pyplot as plt"
   ]
  },
  {
   "cell_type": "code",
   "execution_count": 3,
   "metadata": {},
   "outputs": [],
   "source": [
    "def shell_Sort(arr):\n",
    "    n = len(arr)                                                     # length of an array\n",
    "    gap = (int)(n/2)\n",
    "  \n",
    "    while gap > 0:\n",
    "        for i in range(gap,n):\n",
    "            temp = arr[i]                                            # assigning arr[i] to the temp\n",
    "            j = i\n",
    "            while  j >= gap and arr[j-gap] >temp:\n",
    "                arr[j] = arr[j-gap]                                  # swap untill arr[i]is at the correct location\n",
    "                j -= gap\n",
    "            arr[j] = temp\n",
    "        gap //= 2"
   ]
  },
  {
   "cell_type": "code",
   "execution_count": 4,
   "metadata": {},
   "outputs": [
    {
     "name": "stdout",
     "output_type": "stream",
     "text": [
      "Total time taken by shell sort is : 0.29480934143066406\n",
      "Total time taken by shell sort is : 0.9351646900177002\n",
      "Total time taken by shell sort is : 1.6117563247680664\n",
      "Total time taken by shell sort is : 2.1399948596954346\n",
      "Total time taken by shell sort is : 2.4288997650146484\n"
     ]
    }
   ],
   "source": [
    "\n",
    "n1=0 \n",
    "l1=[10000,30000,50000,70000,90000]\n",
    "shell=[]\n",
    "\n",
    "l=[]\n",
    "for n in l1:\n",
    "\n",
    "    for i in range(n-n1):\n",
    "        l.append(random.randint(0,1000))\n",
    "    n1=n\n",
    "    begin=time.time() \n",
    "    shell_Sort(l)\n",
    "    end=time.time()\n",
    "    shell.append(end-begin)\n",
    "    print(\"Total time taken by shell sort is :\",end-begin)\n"
   ]
  },
  {
   "cell_type": "code",
   "execution_count": 7,
   "metadata": {},
   "outputs": [
    {
     "data": {
      "image/png": "[encoded data removed]",
      "text/plain": [
       "<Figure size 432x288 with 1 Axes>"
      ]
     },
     "metadata": {
      "needs_background": "light"
     },
     "output_type": "display_data"
    }
   ],
   "source": [
    "plt.plot(l1,shell)\n",
    "plt.xlabel(\"integer numbers\")\n",
    "plt.ylabel(\"Time\")\n",
    "plt.title(\"Time taken for shell sorting of integer numbers\")\n",
    "\n",
    "plt.show()"
   ]
  },
  {
   "cell_type": "code",
   "execution_count": null,
   "metadata": {},
   "outputs": [],
   "source": []
  },
  {
   "cell_type": "code",
   "execution_count": null,
   "metadata": {},
   "outputs": [],
   "source": []
  },
  {
   "cell_type": "code",
   "execution_count": null,
   "metadata": {},
   "outputs": [],
   "source": []
  },
  {
   "cell_type": "code",
   "execution_count": null,
   "metadata": {},
   "outputs": [],
   "source": []
  }
 ],
 "metadata": {
  "kernelspec": {
   "display_name": "Python 3",
   "language": "python",
   "name": "python3"
  },
  "language_info": {
   "codemirror_mode": {
    "name": "ipython",
    "version": 3
   },
   "file_extension": ".py",
   "mimetype": "text/x-python",
   "name": "python",
   "nbconvert_exporter": "python",
   "pygments_lexer": "ipython3",
   "version": "3.8.5"
  }
 },
 "nbformat": 4,
 "nbformat_minor": 4
}
