{
 "cells": [
  {
   "cell_type": "code",
   "execution_count": 2,
   "metadata": {},
   "outputs": [],
   "source": [
    "\n",
    "# Python code to convert radian to degree\n",
    "# Name : Madhu\n",
    "\n",
    "\n",
    "def r2d(x):                        # function to convert radian to degree\n",
    "    pi = 3.14159\n",
    "    degree = x * (180/pi)     # formula to convert radian to degree\n",
    "    return degree"
   ]
  },
  {
   "cell_type": "code",
   "execution_count": null,
   "metadata": {},
   "outputs": [],
   "source": [
    "# Python code to convert degrees to radian\n",
    "\n",
    "def d2r(x):                        # function to convert degrees to radian\n",
    "    pi = 3.14159\n",
    "    radian = x * (pi/180)     # formula to convert degrees to radian\n",
    "    return radian"
   ]
  },
  {
   "cell_type": "code",
   "execution_count": 3,
   "metadata": {},
   "outputs": [],
   "source": [
    "# Python code to calculat retail price\n",
    "# Name: Madhu\n",
    "\n",
    "\n",
    "def wholesale_price(wholesale):\n",
    "     if wholesale < 0:                                             # Validate wholesale value\n",
    "        print('ERROR: the cost cannot be negative.')\n",
    "        wholesale = float(input('Enter the correct wholesale cost:'))\n",
    "        return wholesale\n",
    "     return wholesale\n",
    "     \n",
    "        \n",
    "def show_retail_price(wholesale, mark_up_value):\n",
    "    retail = wholesale * mark_up_value                              # Formula to calculate retail price\n",
    "    return retail\n",
    "\n"
   ]
  },
  {
   "cell_type": "markdown",
   "metadata": {},
   "source": [
    "Write a program called SellItems. The program should allow the user to enter any number of item prices\n",
    "and then calculate the total and apply a 7% sales tax. The item prices should be stored in a Python list,\n",
    "and a loop should be used to get the input and calculate the total. The output should include a list of item\n",
    "prices, the subtotal of the prices, the tax amount, and the final cost. Display all results in two decimal\n",
    "places. Create at least two functions and save those functions into a separate file (the file that you have\n",
    "created in your previous assignment). Import the file into your main program.\n",
    "\n",
    "Name: Madhu\n"
   ]
  },
  {
   "cell_type": "code",
   "execution_count": null,
   "metadata": {},
   "outputs": [],
   "source": [
    "\n",
    "\n",
    "def calculate_FinalCost(totalprice, tax_rate):\n",
    "    FinalAmount = totalprice + (totalprice * tax_rate)\n",
    "    FinalAmount = round(FinalAmount, 2)                      # rounding it to 2 decimal places\n",
    "    return FinalAmount                                       # final amount with tax\n",
    "\n",
    "def tax_cost_amount(FinalCost, SumOfItems):\n",
    "    tax_cost = FinalCost - SumOfItems\n",
    "    print(\"Total tax cost is:\", round(tax_cost, 2))           # rounding it to 2 decimal places   \n",
    "    \n",
    "    \n",
    "    \n",
    "    \n",
    "    \n",
    "    \n",
    "    \n",
    "    \n",
    "    \n",
    "    \n",
    "    \n",
    "    \n",
    "    \n",
    "    \n",
    "    "
   ]
  }
 ],
 "metadata": {
  "kernelspec": {
   "display_name": "Python 3",
   "language": "python",
   "name": "python3"
  },
  "language_info": {
   "codemirror_mode": {
    "name": "ipython",
    "version": 3
   },
   "file_extension": ".py",
   "mimetype": "text/x-python",
   "name": "python",
   "nbconvert_exporter": "python",
   "pygments_lexer": "ipython3",
   "version": "3.8.5"
  }
 },
 "nbformat": 4,
 "nbformat_minor": 4
}
