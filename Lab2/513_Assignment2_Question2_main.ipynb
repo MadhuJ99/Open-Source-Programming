{
 "cells": [
  {
   "cell_type": "code",
   "execution_count": 1,
   "metadata": {},
   "outputs": [
    {
     "name": "stdout",
     "output_type": "stream",
     "text": [
      "Enter the items wholesale cost:3\n",
      "Retail price: $ 7.50\n",
      "Do you have another item? (Enter y for yes or any other key for No): y\n",
      "Enter the items wholesale cost:76\n",
      "Retail price: $ 190.00\n",
      "Do you have another item? (Enter y for yes or any other key for No): n\n"
     ]
    }
   ],
   "source": [
    "# This program calculates retail prices.\n",
    "# Name : Madhu\n",
    "\n",
    "#from ipynb.fs.full.Madhulib import *\n",
    "from ipynb.fs.full.Madhulib import wholesale_price, show_retail_price\n",
    "\n",
    "def main():\n",
    "    mark_up_value = 2.5  \n",
    "    another = 'y'\n",
    "    while another == 'y' or another == 'Y':\n",
    "        wholesale = float(input('Enter the items wholesale cost:'))\n",
    "        wholesale = wholesale_price(wholesale)                            # function to enter wholesale price by user\n",
    "        retail = show_retail_price(wholesale, mark_up_value)              # function to calculate retail price\n",
    "        print('Retail price: $', format(retail, ',.2f'))\n",
    "        another = input('Do you have another item? (Enter y for yes or any other key for No): ')\n",
    "          \n",
    "main()                                                                    # Calling main function"
   ]
  },
  {
   "cell_type": "code",
   "execution_count": null,
   "metadata": {},
   "outputs": [],
   "source": []
  }
 ],
 "metadata": {
  "kernelspec": {
   "display_name": "Python 3",
   "language": "python",
   "name": "python3"
  },
  "language_info": {
   "codemirror_mode": {
    "name": "ipython",
    "version": 3
   },
   "file_extension": ".py",
   "mimetype": "text/x-python",
   "name": "python",
   "nbconvert_exporter": "python",
   "pygments_lexer": "ipython3",
   "version": "3.8.5"
  }
 },
 "nbformat": 4,
 "nbformat_minor": 4
}
