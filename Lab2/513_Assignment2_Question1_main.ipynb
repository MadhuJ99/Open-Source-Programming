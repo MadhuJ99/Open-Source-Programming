{
 "cells": [
  {
   "cell_type": "code",
   "execution_count": 46,
   "metadata": {},
   "outputs": [
    {
     "name": "stdout",
     "output_type": "stream",
     "text": [
      "Requirement already satisfied: ipynb in c:\\users\\madhu\\anaconda3\\lib\\site-packages (0.5.1)\n",
      "Note: you may need to restart the kernel to use updated packages.\n"
     ]
    }
   ],
   "source": [
    "pip install ipynb\n"
   ]
  },
  {
   "cell_type": "code",
   "execution_count": 43,
   "metadata": {},
   "outputs": [
    {
     "name": "stdout",
     "output_type": "stream",
     "text": [
      "degree = 286.4791395439889\n"
     ]
    }
   ],
   "source": [
    "# python main program to convert radian to degree\n",
    "# Name: Madhu\n",
    "\n",
    "from ipynb.fs.full.Madhulib import r2d\n",
    "\n",
    "x = 5                              # x is a radian\n",
    "print(\"degree =\",(r2d(x)))\n",
    "\n"
   ]
  },
  {
   "cell_type": "code",
   "execution_count": 42,
   "metadata": {},
   "outputs": [
    {
     "name": "stdout",
     "output_type": "stream",
     "text": [
      "radian = 0.12217294444444443\n"
     ]
    }
   ],
   "source": [
    "# python main program to convert degrees to radian\n",
    "# Name: Madhu\n",
    "\n",
    "from ipynb.fs.full.Madhulib import d2r\n",
    "\n",
    "x = 7                              # x is a degree\n",
    "print(\"radian =\",(d2r(x)))\n",
    "\n"
   ]
  },
  {
   "cell_type": "code",
   "execution_count": null,
   "metadata": {},
   "outputs": [],
   "source": []
  }
 ],
 "metadata": {
  "kernelspec": {
   "display_name": "Python 3",
   "language": "python",
   "name": "python3"
  },
  "language_info": {
   "codemirror_mode": {
    "name": "ipython",
    "version": 3
   },
   "file_extension": ".py",
   "mimetype": "text/x-python",
   "name": "python",
   "nbconvert_exporter": "python",
   "pygments_lexer": "ipython3",
   "version": "3.8.5"
  }
 },
 "nbformat": 4,
 "nbformat_minor": 4
}
