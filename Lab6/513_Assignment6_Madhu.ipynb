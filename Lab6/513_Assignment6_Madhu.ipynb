{
 "cells": [
  {
   "cell_type": "markdown",
   "metadata": {},
   "source": [
    "Using any text editor, manually create a file that contains four or five lines with the following\n",
    "format:\n",
    " Username:Firstname:Lastname:Telephone number\n",
    " \n",
    "Write a program that will convert such lines to a Lightweight Directory Access Protocol (LDAP)\n",
    "\n",
    "record format as shown below:\n",
    "dn: uid=Username, dc=example, dc=com\n",
    "cn: Firstname Lastname\n",
    "sn: Lastname\n",
    "telephoneNumber: Telephone number\n",
    "\n",
    "Name: Madhu"
   ]
  },
  {
   "cell_type": "code",
   "execution_count": 137,
   "metadata": {},
   "outputs": [
    {
     "name": "stdout",
     "output_type": "stream",
     "text": [
      "* Fisrt User Details: \n",
      " dn: uid=Mjagdale, dc=example, dc=com \n",
      " cn: Madhu Jagdale \n",
      " sn: Jagdale \n",
      " telephone_number: 574-567-4567\n",
      " \n",
      " * Second User Details: \n",
      " dn: uid=AkThorat, dc=example, dc=com \n",
      " cn: Akshay Thorat \n",
      " sn: Thorat \n",
      " telephone_number: 607-879-0978\n",
      "\n",
      " * Third User Details: \n",
      " dn: uid=KoyaJ, dc=example, dc=com \n",
      " cn: Vrushali Jagdale \n",
      " sn: Jagdale \n",
      " telephone_number: 574-987-4509\n",
      "\n",
      " * Fourth User Details: \n",
      " dn: uid=Jram, dc=example, dc=com \n",
      " cn: Tanay Jagdale \n",
      " sn: Jagdale \n",
      " telephone_number: 345-098-3456\n"
     ]
    }
   ],
   "source": [
    "with open(\"Data.txt\",'r') as f:\n",
    "    lists = [line.strip().split(':') for line in f.readlines()]\n",
    "listOne = [line[0] for line in lists]\n",
    "listTwo = [line[1] for line in lists]\n",
    "listThree = [line[2] for line in lists]\n",
    "listFour = [line[3] for line in lists]\n",
    "\n",
    "UserOne = \"dn: uid={}, dc=example, dc=com \\n cn: {} {} \\n sn: {} \\n telephone_number: {}\".format(listOne[0], listTwo[0], listThree[0], listThree[0], listFour[0])\n",
    "UserTwo = \"dn: uid={}, dc=example, dc=com \\n cn: {} {} \\n sn: {} \\n telephone_number: {}\".format(listOne[1], listTwo[1], listThree[1], listThree[1], listFour[1])\n",
    "UserThree = \"dn: uid={}, dc=example, dc=com \\n cn: {} {} \\n sn: {} \\n telephone_number: {}\".format(listOne[2], listTwo[2], listThree[2], listThree[2], listFour[2])\n",
    "UserFour = \"dn: uid={}, dc=example, dc=com \\n cn: {} {} \\n sn: {} \\n telephone_number: {}\".format(listOne[3], listTwo[3], listThree[3], listThree[3], listFour[3])\n",
    "\n",
    "\n",
    "print(\"* Fisrt User Details: \\n\", UserOne)\n",
    "print(\" \\n * Second User Details: \\n\",UserTwo)\n",
    "print(\"\\n * Third User Details: \\n\",UserThree)\n",
    "print(\"\\n * Fourth User Details: \\n\",UserFour)\n",
    "\n",
    "\n"
   ]
  },
  {
   "cell_type": "code",
   "execution_count": 7,
   "metadata": {},
   "outputs": [],
   "source": [
    "import re"
   ]
  },
  {
   "cell_type": "markdown",
   "metadata": {},
   "source": [
    "Python program that reads U.S. phone numbers with the three-digit area and seven-digit local codes accepted as ten digits, or separated into blocks using hyphens or spaces, and with the area code optionally enclosed in parentheses.\n",
    "For example, all of these are valid: 555-123-1234, (555) 1234567, (555) 123 1234, and 5551234567. Read the phone numbers from user input and for each one echo the number in the form “(999) 999 9999” or report an error for any that are invalid, or that don’t have exactly ten digits.\n",
    "\n",
    "Name: Madhu"
   ]
  },
  {
   "cell_type": "code",
   "execution_count": 140,
   "metadata": {},
   "outputs": [
    {
     "name": "stdout",
     "output_type": "stream",
     "text": [
      "Please enter your phone number:2345-908-9780\n",
      "Error! Please enter ten digit number.\n"
     ]
    }
   ],
   "source": [
    "user_pattern = (\"^\\(?([0-9]{3})\\)?[-.●]?([0-9]{3})[-.●]?([0-9]{4})$\")\n",
    "\n",
    "new_pattern1 =  r\"(\\1) \\2 \\3\"\n",
    "user_input = (input(\"Please enter your phone number:\"))\n",
    "if(re.search(user_pattern, user_input)):\n",
    "    new_user_input = re.sub(user_pattern, new_pattern1, user_input)\n",
    "    print(\"User phone number is: \", new_user_input)\n",
    "else:\n",
    "    print(\"Error! Please enter ten digit number.\")\n",
    "    "
   ]
  },
  {
   "cell_type": "markdown",
   "metadata": {},
   "source": []
  }
 ],
 "metadata": {
  "kernelspec": {
   "display_name": "Python 3",
   "language": "python",
   "name": "python3"
  },
  "language_info": {
   "codemirror_mode": {
    "name": "ipython",
    "version": 3
   },
   "file_extension": ".py",
   "mimetype": "text/x-python",
   "name": "python",
   "nbconvert_exporter": "python",
   "pygments_lexer": "ipython3",
   "version": "3.8.5"
  }
 },
 "nbformat": 4,
 "nbformat_minor": 4
}
