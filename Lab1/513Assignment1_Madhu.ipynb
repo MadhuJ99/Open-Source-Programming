{
 "cells": [
  {
   "cell_type": "markdown",
   "metadata": {},
   "source": [
    "Question 1\n",
    "\n",
    "Write a program that prompts user to enter the number of sides and their length of a regular polygon and display the area.\n",
    "\n",
    "Name: Madhu"
   ]
  },
  {
   "cell_type": "code",
   "execution_count": 9,
   "metadata": {},
   "outputs": [
    {
     "name": "stdout",
     "output_type": "stream",
     "text": [
      "Enter number of sides: 6\n",
      "Enter length of side: 7.9\n",
      "Area of a regular polygon is:  162.12\n"
     ]
    }
   ],
   "source": [
    "import math\n",
    "try:\n",
    "  n = int(input(\"Enter number of sides: \"))    # Can enter int or float value\n",
    "  s = eval(input(\"Enter length of side: \"))\n",
    "  area = ((n * s * s))/ (4 *  math.tan((3.142)/n)) #formula to calculate regular polygon\n",
    "  print(\"Area of a regular polygon is: \",format(area, '.2f')) # display area to 4 decimal points\n",
    "except:\n",
    "    print(\"Error! Please enter number of sides in integer.\")"
   ]
  },
  {
   "cell_type": "markdown",
   "metadata": {},
   "source": [
    "Question 2\n",
    "\n",
    "Write a program based on the given chart. Make sure your program validates the input data. For example, value 50x is invalid, it should be 50. The program should give the user the option to run the test again until the user chooses to exit.\n",
    "\n"
   ]
  },
  {
   "cell_type": "code",
   "execution_count": 17,
   "metadata": {},
   "outputs": [
    {
     "name": "stdout",
     "output_type": "stream",
     "text": [
      "Enter status lights: red\n",
      "Shut-off all input lines and check meter #3\n",
      "Enter meter value: 65\n",
      "Measure flow velocity at inlet 2-B\n",
      "Enter flow velocity: ghf\n",
      "Please enter valid flow velocity.\n",
      "Do you want to run the test again? (Enter y/n): y\n",
      "Enter status lights: red\n",
      "Shut-off all input lines and check meter #3\n",
      "Enter meter value: 34\n",
      "Check main line for test pressure\n",
      "Enter test pressure: dcf\n",
      "Please enter Valid Test Pressure.\n",
      "Do you want to run the test again? (Enter y/n): n\n"
     ]
    }
   ],
   "source": [
    "run_the_test_again = \"y\"\n",
    "\n",
    "while run_the_test_again == \"y\":\n",
    "\n",
    "   Status_Lights = input (\"Enter status lights: \")\n",
    "\n",
    "   Status_Lights = Status_Lights.upper()                                     # Accepts uppercase or lowercase entry\n",
    "   if ( Status_Lights == 'GREEN'):\n",
    "      print(\"Do restart procedure\")\n",
    "  \n",
    "   elif (Status_Lights == 'AMBER'):\n",
    "      print(\"Check fuel line service routine\")\n",
    "  \n",
    "   elif (Status_Lights == 'RED'):\n",
    "  \n",
    "      print(\"Shut-off all input lines and check meter #3\")\n",
    "      try:\n",
    "        Meter_Value = int(input(\"Enter meter value: \"))                      # Only accepts integer value\n",
    "  \n",
    "        if (Meter_Value < 50 ):\n",
    "            print(\"Check main line for test pressure\")\n",
    "      \n",
    "            Test_Pressure = input(\"Enter test pressure: \")\n",
    "            Test_Pressure = Test_Pressure.upper()                            # Accepts uppercase or lowercase entry\n",
    "       \n",
    "            if (Test_Pressure == \"NORMAL\"):\n",
    "                print(\"Refer to motor service manual\")\n",
    "            elif (Test_Pressure == \"HIGH\" or Test_Pressure == \"LOW\"):        # Either one condition is acceptable\n",
    "           \n",
    "                print(\"Refer to main line manual\")\n",
    "            else:\n",
    "                print(\"Please enter Valid Test Pressure.\")\n",
    "  \n",
    "        elif (Meter_Value>=50):\n",
    "            print(\"Measure flow velocity at inlet 2-B\")\n",
    "      \n",
    "            Flow_Velocity = input(\"Enter flow velocity: \")\n",
    "            Flow_Velocity = Flow_Velocity.upper()                           # Accepts uppercase or lowercase entry\n",
    "      \n",
    "            if (Flow_Velocity == \"NORMAL\"):\n",
    "                print(\"Refer to inlet service manual\")\n",
    "            elif (Flow_Velocity == \"HIGH\" or Flow_Velocity == \"LOW\"):       # Either one condition is acceptable\n",
    "                print(\"Refer unit for factory service\")\n",
    "            else:\n",
    "                print(\"Please enter valid flow velocity.\")\n",
    "\n",
    "        \n",
    "      except:\n",
    "             print(\"Error! Please check if your meter value is integer.\")\n",
    "   else:\n",
    "        print(\"Error! Invalid entry. Please enter valid status light.\")\n",
    "            \n",
    "            \n",
    "   run_the_test_again = input(\"Do you want to run the test again? (Enter y/n): \")\n"
   ]
  },
  {
   "cell_type": "code",
   "execution_count": null,
   "metadata": {},
   "outputs": [],
   "source": []
  }
 ],
 "metadata": {
  "kernelspec": {
   "display_name": "Python 3",
   "language": "python",
   "name": "python3"
  },
  "language_info": {
   "codemirror_mode": {
    "name": "ipython",
    "version": 3
   },
   "file_extension": ".py",
   "mimetype": "text/x-python",
   "name": "python",
   "nbconvert_exporter": "python",
   "pygments_lexer": "ipython3",
   "version": "3.8.5"
  }
 },
 "nbformat": 4,
 "nbformat_minor": 4
}
