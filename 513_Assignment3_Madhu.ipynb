{
 "cells": [
  {
   "cell_type": "markdown",
   "metadata": {},
   "source": [
    "Write a program called SellItems. The program should allow the user to enter any number of item prices\n",
    "and then calculate the total and apply a 7% sales tax. The item prices should be stored in a Python list,\n",
    "and a loop should be used to get the input and calculate the total. The output should include a list of item\n",
    "prices, the subtotal of the prices, the tax amount, and the final cost. Display all results in two decimal\n",
    "places. Create at least two functions and save those functions into a separate file (the file that you have\n",
    "created in your previous assignment). Import the file into your main program.\n",
    "\n",
    "\n",
    "Name: Madhu"
   ]
  },
  {
   "cell_type": "code",
   "execution_count": 65,
   "metadata": {},
   "outputs": [
    {
     "name": "stdout",
     "output_type": "stream",
     "text": [
      "Enter number of elements : 2\n",
      "Please enter the price of Item:\n",
      "50\n",
      "Please enter the price of Item:\n",
      "50\n",
      "[50, 50]\n",
      "Subtotal of all the prices is: 100\n",
      "The price with tax: $ 107.0\n",
      "Total tax cost is: 7.0\n"
     ]
    }
   ],
   "source": [
    "from ipynb.fs.full.Madhulib import calculate_FinalCost, tax_cost_amount\n",
    "    \n",
    "def main():\n",
    "\n",
    "    ItemList = []                                        # empty list for an array\n",
    " \n",
    "    n = int(input(\"Enter number of elements : \"))        # User input for number of items\n",
    " \n",
    "\n",
    "    for i in range(0, n):\n",
    "        print(\"Please enter the price of Item:\")\n",
    "        items = int(input()) \n",
    "        ItemList.append(items)                           # adding price to the list\n",
    "     \n",
    "    print(ItemList)\n",
    "    SumOfItems = sum(ItemList)                           # Sum of all the items\n",
    "    print(\"Subtotal of all the prices is:\", SumOfItems)\n",
    "\n",
    "    FinalCost = calculate_FinalCost(SumOfItems,.07)      # function to calculate tax\n",
    "    print (\"The price with tax: $\", FinalCost)\n",
    "    tax_cost_amount(FinalCost, SumOfItems)               # function to calculate total tax amount\n",
    "\n",
    "main()\n"
   ]
  },
  {
   "cell_type": "code",
   "execution_count": 10,
   "metadata": {},
   "outputs": [
    {
     "name": "stdout",
     "output_type": "stream",
     "text": [
      "1 2 3\n",
      "4 5 6\n",
      "7 8 9\n",
      "1 2 3\n",
      "3 4 5\n",
      "6 7 8\n",
      "First matrix is:  [[1, 2, 3], [4, 5, 6], [7, 8, 9]]\n",
      "Second matrix is:  [[1, 2, 3], [3, 4, 5], [6, 7, 8]]\n",
      "Multiplication of two matrices is:  [[25, 31, 37], [55, 70, 85], [85, 109, 133]]\n"
     ]
    }
   ],
   "source": [
    "# Write a function to multiply two matrices using MultiplyMatrix(a,b) function. Take input from user for two matrices and \n",
    "# calculate the product of those matrices.\n",
    "# Name : Madhu\n",
    "\n",
    "\n",
    "def main():\n",
    "    matrix1 = []                                         # intialization of first matrix\n",
    "    matrix2 = []                                         # intialization of second matrix\n",
    "    for i in range(3):                                   # taking first matrix by user\n",
    "        row = list(map(int, input().split()))\n",
    "        matrix1.append(row)\n",
    "    for i in range(3):                                   # taking first matrix by user\n",
    "        row = list(map(int, input().split()))      \n",
    "        matrix2.append(row)\n",
    "    print('First matrix is: ', matrix1)\n",
    "    print('Second matrix is: ', matrix2)\n",
    "    res = MultiplyMatrix(matrix1, matrix2)\n",
    "    print ('Multiplication of two matrices is: ', res)                     \n",
    "\n",
    "    \n",
    "def MultiplyMatrix(matrix1, matrix2):                    # Function to calculate two matrices\n",
    "    res = [[0 for x in range(3)] for y in range(3)]\n",
    "\n",
    "    for i in range(len(matrix1)):\n",
    "            for j in range(len(matrix2[0])):\n",
    "                for k in range(len(matrix2)):  \n",
    "            \n",
    "                    res[i][j] += matrix1[i][k] * matrix2[k][j]        \n",
    "    return (res)\n",
    "    \n",
    "\n",
    "\n",
    "main()\n"
   ]
  }
 ],
 "metadata": {
  "kernelspec": {
   "display_name": "Python 3",
   "language": "python",
   "name": "python3"
  },
  "language_info": {
   "codemirror_mode": {
    "name": "ipython",
    "version": 3
   },
   "file_extension": ".py",
   "mimetype": "text/x-python",
   "name": "python",
   "nbconvert_exporter": "python",
   "pygments_lexer": "ipython3",
   "version": "3.8.5"
  }
 },
 "nbformat": 4,
 "nbformat_minor": 4
}
